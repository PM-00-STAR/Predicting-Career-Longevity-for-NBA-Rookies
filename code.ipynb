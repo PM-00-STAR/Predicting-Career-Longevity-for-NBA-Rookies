{
 "cells": [
  {
   "cell_type": "code",
   "execution_count": 2,
   "id": "e41764ae",
   "metadata": {},
   "outputs": [],
   "source": [
    "import numpy as np\n",
    "import pandas as pd\n",
    "%matplotlib inline\n",
    "import matplotlib\n",
    "import matplotlib.pyplot as plt\n",
    "import seaborn as sns\n",
    "\n",
    "from sklearn.metrics import confusion_matrix, plot_confusion_matrix,classification_report,accuracy_score,roc_auc_score,roc_curve\n",
    "\n",
    "from sklearn.preprocessing import StandardScaler,MinMaxScaler\n",
    "from sklearn.model_selection import train_test_split\n",
    "from sklearn.model_selection import cross_val_score\n",
    "import warnings\n",
    "warnings.filterwarnings(\"ignore\")"
   ]
  },
  {
   "cell_type": "code",
   "execution_count": 3,
   "id": "15973e76",
   "metadata": {},
   "outputs": [],
   "source": [
    "df=pd.read_csv('train_data.csv')"
   ]
  },
  {
   "cell_type": "code",
   "execution_count": 4,
   "id": "8d21241c",
   "metadata": {},
   "outputs": [],
   "source": [
    "# df.head()"
   ]
  },
  {
   "cell_type": "code",
   "execution_count": 5,
   "id": "fa25ab98",
   "metadata": {},
   "outputs": [],
   "source": [
    "#  df.shape"
   ]
  },
  {
   "cell_type": "code",
   "execution_count": 5,
   "id": "ae4ee03e",
   "metadata": {},
   "outputs": [
    {
     "data": {
      "text/html": [
       "<div>\n",
       "<style scoped>\n",
       "    .dataframe tbody tr th:only-of-type {\n",
       "        vertical-align: middle;\n",
       "    }\n",
       "\n",
       "    .dataframe tbody tr th {\n",
       "        vertical-align: top;\n",
       "    }\n",
       "\n",
       "    .dataframe thead th {\n",
       "        text-align: right;\n",
       "    }\n",
       "</style>\n",
       "<table border=\"1\" class=\"dataframe\">\n",
       "  <thead>\n",
       "    <tr style=\"text-align: right;\">\n",
       "      <th></th>\n",
       "      <th>GP</th>\n",
       "      <th>MIN</th>\n",
       "      <th>PTS</th>\n",
       "      <th>FGM</th>\n",
       "      <th>FGA</th>\n",
       "      <th>FG%</th>\n",
       "      <th>3P Made</th>\n",
       "      <th>3PA</th>\n",
       "      <th>3P%</th>\n",
       "      <th>FTM</th>\n",
       "      <th>FTA</th>\n",
       "      <th>FT%</th>\n",
       "      <th>OREB</th>\n",
       "      <th>DREB</th>\n",
       "      <th>REB</th>\n",
       "      <th>AST</th>\n",
       "      <th>STL</th>\n",
       "      <th>BLK</th>\n",
       "      <th>TOV</th>\n",
       "      <th>Target</th>\n",
       "    </tr>\n",
       "  </thead>\n",
       "  <tbody>\n",
       "    <tr>\n",
       "      <th>count</th>\n",
       "      <td>1101.000000</td>\n",
       "      <td>1101.000000</td>\n",
       "      <td>1101.000000</td>\n",
       "      <td>1101.000000</td>\n",
       "      <td>1101.000000</td>\n",
       "      <td>1101.000000</td>\n",
       "      <td>1101.000000</td>\n",
       "      <td>1101.000000</td>\n",
       "      <td>1101.000000</td>\n",
       "      <td>1101.000000</td>\n",
       "      <td>1101.000000</td>\n",
       "      <td>1101.000000</td>\n",
       "      <td>1101.000000</td>\n",
       "      <td>1101.000000</td>\n",
       "      <td>1101.000000</td>\n",
       "      <td>1101.000000</td>\n",
       "      <td>1101.000000</td>\n",
       "      <td>1101.000000</td>\n",
       "      <td>1101.000000</td>\n",
       "      <td>1101.000000</td>\n",
       "    </tr>\n",
       "    <tr>\n",
       "      <th>mean</th>\n",
       "      <td>59.008156</td>\n",
       "      <td>16.928284</td>\n",
       "      <td>6.502344</td>\n",
       "      <td>2.511125</td>\n",
       "      <td>5.645747</td>\n",
       "      <td>43.912555</td>\n",
       "      <td>0.241959</td>\n",
       "      <td>0.767455</td>\n",
       "      <td>19.050425</td>\n",
       "      <td>1.241914</td>\n",
       "      <td>1.741848</td>\n",
       "      <td>70.495847</td>\n",
       "      <td>0.958240</td>\n",
       "      <td>1.937014</td>\n",
       "      <td>2.891927</td>\n",
       "      <td>1.472706</td>\n",
       "      <td>0.589403</td>\n",
       "      <td>0.344204</td>\n",
       "      <td>1.150499</td>\n",
       "      <td>0.499546</td>\n",
       "    </tr>\n",
       "    <tr>\n",
       "      <th>std</th>\n",
       "      <td>17.236886</td>\n",
       "      <td>8.034209</td>\n",
       "      <td>4.163856</td>\n",
       "      <td>1.611502</td>\n",
       "      <td>3.422292</td>\n",
       "      <td>6.106910</td>\n",
       "      <td>0.363008</td>\n",
       "      <td>1.017214</td>\n",
       "      <td>15.513640</td>\n",
       "      <td>0.937585</td>\n",
       "      <td>1.272047</td>\n",
       "      <td>10.381068</td>\n",
       "      <td>0.771344</td>\n",
       "      <td>1.342627</td>\n",
       "      <td>2.039694</td>\n",
       "      <td>1.376592</td>\n",
       "      <td>0.386147</td>\n",
       "      <td>0.418840</td>\n",
       "      <td>0.687706</td>\n",
       "      <td>0.500227</td>\n",
       "    </tr>\n",
       "    <tr>\n",
       "      <th>min</th>\n",
       "      <td>11.000000</td>\n",
       "      <td>3.100000</td>\n",
       "      <td>1.100000</td>\n",
       "      <td>0.400000</td>\n",
       "      <td>1.000000</td>\n",
       "      <td>25.000000</td>\n",
       "      <td>0.000000</td>\n",
       "      <td>0.000000</td>\n",
       "      <td>0.000000</td>\n",
       "      <td>0.000000</td>\n",
       "      <td>0.000000</td>\n",
       "      <td>0.000000</td>\n",
       "      <td>0.000000</td>\n",
       "      <td>0.200000</td>\n",
       "      <td>0.300000</td>\n",
       "      <td>0.000000</td>\n",
       "      <td>0.000000</td>\n",
       "      <td>0.000000</td>\n",
       "      <td>0.100000</td>\n",
       "      <td>0.000000</td>\n",
       "    </tr>\n",
       "    <tr>\n",
       "      <th>25%</th>\n",
       "      <td>46.223257</td>\n",
       "      <td>10.492268</td>\n",
       "      <td>3.587756</td>\n",
       "      <td>1.400000</td>\n",
       "      <td>3.200000</td>\n",
       "      <td>40.000000</td>\n",
       "      <td>0.000000</td>\n",
       "      <td>0.000000</td>\n",
       "      <td>0.000000</td>\n",
       "      <td>0.600000</td>\n",
       "      <td>0.900000</td>\n",
       "      <td>64.900000</td>\n",
       "      <td>0.400000</td>\n",
       "      <td>1.000000</td>\n",
       "      <td>1.400000</td>\n",
       "      <td>0.600000</td>\n",
       "      <td>0.300000</td>\n",
       "      <td>0.100000</td>\n",
       "      <td>0.700000</td>\n",
       "      <td>0.000000</td>\n",
       "    </tr>\n",
       "    <tr>\n",
       "      <th>50%</th>\n",
       "      <td>59.387147</td>\n",
       "      <td>15.386486</td>\n",
       "      <td>5.200000</td>\n",
       "      <td>2.000000</td>\n",
       "      <td>4.600000</td>\n",
       "      <td>43.652785</td>\n",
       "      <td>0.100000</td>\n",
       "      <td>0.300000</td>\n",
       "      <td>22.600000</td>\n",
       "      <td>1.000000</td>\n",
       "      <td>1.400000</td>\n",
       "      <td>71.502462</td>\n",
       "      <td>0.700000</td>\n",
       "      <td>1.600000</td>\n",
       "      <td>2.273596</td>\n",
       "      <td>1.041951</td>\n",
       "      <td>0.500000</td>\n",
       "      <td>0.200000</td>\n",
       "      <td>0.988945</td>\n",
       "      <td>0.000000</td>\n",
       "    </tr>\n",
       "    <tr>\n",
       "      <th>75%</th>\n",
       "      <td>76.000000</td>\n",
       "      <td>21.830403</td>\n",
       "      <td>8.300000</td>\n",
       "      <td>3.200000</td>\n",
       "      <td>6.900000</td>\n",
       "      <td>47.700000</td>\n",
       "      <td>0.400000</td>\n",
       "      <td>1.195634</td>\n",
       "      <td>32.300000</td>\n",
       "      <td>1.600000</td>\n",
       "      <td>2.200000</td>\n",
       "      <td>77.436718</td>\n",
       "      <td>1.300000</td>\n",
       "      <td>2.500000</td>\n",
       "      <td>3.700000</td>\n",
       "      <td>1.900000</td>\n",
       "      <td>0.800000</td>\n",
       "      <td>0.400000</td>\n",
       "      <td>1.400000</td>\n",
       "      <td>1.000000</td>\n",
       "    </tr>\n",
       "    <tr>\n",
       "      <th>max</th>\n",
       "      <td>82.000000</td>\n",
       "      <td>40.900000</td>\n",
       "      <td>24.300000</td>\n",
       "      <td>9.000000</td>\n",
       "      <td>18.900000</td>\n",
       "      <td>73.700000</td>\n",
       "      <td>2.300000</td>\n",
       "      <td>6.500000</td>\n",
       "      <td>100.000000</td>\n",
       "      <td>7.500000</td>\n",
       "      <td>10.200000</td>\n",
       "      <td>100.000000</td>\n",
       "      <td>5.300000</td>\n",
       "      <td>9.600000</td>\n",
       "      <td>13.900000</td>\n",
       "      <td>10.600000</td>\n",
       "      <td>2.500000</td>\n",
       "      <td>3.900000</td>\n",
       "      <td>4.200000</td>\n",
       "      <td>1.000000</td>\n",
       "    </tr>\n",
       "  </tbody>\n",
       "</table>\n",
       "</div>"
      ],
      "text/plain": [
       "                GP          MIN          PTS          FGM          FGA  \\\n",
       "count  1101.000000  1101.000000  1101.000000  1101.000000  1101.000000   \n",
       "mean     59.008156    16.928284     6.502344     2.511125     5.645747   \n",
       "std      17.236886     8.034209     4.163856     1.611502     3.422292   \n",
       "min      11.000000     3.100000     1.100000     0.400000     1.000000   \n",
       "25%      46.223257    10.492268     3.587756     1.400000     3.200000   \n",
       "50%      59.387147    15.386486     5.200000     2.000000     4.600000   \n",
       "75%      76.000000    21.830403     8.300000     3.200000     6.900000   \n",
       "max      82.000000    40.900000    24.300000     9.000000    18.900000   \n",
       "\n",
       "               FG%      3P Made          3PA          3P%          FTM  \\\n",
       "count  1101.000000  1101.000000  1101.000000  1101.000000  1101.000000   \n",
       "mean     43.912555     0.241959     0.767455    19.050425     1.241914   \n",
       "std       6.106910     0.363008     1.017214    15.513640     0.937585   \n",
       "min      25.000000     0.000000     0.000000     0.000000     0.000000   \n",
       "25%      40.000000     0.000000     0.000000     0.000000     0.600000   \n",
       "50%      43.652785     0.100000     0.300000    22.600000     1.000000   \n",
       "75%      47.700000     0.400000     1.195634    32.300000     1.600000   \n",
       "max      73.700000     2.300000     6.500000   100.000000     7.500000   \n",
       "\n",
       "               FTA          FT%         OREB         DREB          REB  \\\n",
       "count  1101.000000  1101.000000  1101.000000  1101.000000  1101.000000   \n",
       "mean      1.741848    70.495847     0.958240     1.937014     2.891927   \n",
       "std       1.272047    10.381068     0.771344     1.342627     2.039694   \n",
       "min       0.000000     0.000000     0.000000     0.200000     0.300000   \n",
       "25%       0.900000    64.900000     0.400000     1.000000     1.400000   \n",
       "50%       1.400000    71.502462     0.700000     1.600000     2.273596   \n",
       "75%       2.200000    77.436718     1.300000     2.500000     3.700000   \n",
       "max      10.200000   100.000000     5.300000     9.600000    13.900000   \n",
       "\n",
       "               AST          STL          BLK          TOV       Target  \n",
       "count  1101.000000  1101.000000  1101.000000  1101.000000  1101.000000  \n",
       "mean      1.472706     0.589403     0.344204     1.150499     0.499546  \n",
       "std       1.376592     0.386147     0.418840     0.687706     0.500227  \n",
       "min       0.000000     0.000000     0.000000     0.100000     0.000000  \n",
       "25%       0.600000     0.300000     0.100000     0.700000     0.000000  \n",
       "50%       1.041951     0.500000     0.200000     0.988945     0.000000  \n",
       "75%       1.900000     0.800000     0.400000     1.400000     1.000000  \n",
       "max      10.600000     2.500000     3.900000     4.200000     1.000000  "
      ]
     },
     "execution_count": 5,
     "metadata": {},
     "output_type": "execute_result"
    }
   ],
   "source": [
    "# df.describe()"
   ]
  },
  {
   "cell_type": "code",
   "execution_count": 6,
   "id": "44fd2405",
   "metadata": {},
   "outputs": [],
   "source": [
    "# df.dtypes"
   ]
  },
  {
   "cell_type": "code",
   "execution_count": 7,
   "id": "d7ebaf23",
   "metadata": {},
   "outputs": [],
   "source": [
    "df.GP=df.GP.astype(np.int64)"
   ]
  },
  {
   "cell_type": "code",
   "execution_count": 8,
   "id": "0427c278",
   "metadata": {},
   "outputs": [
    {
     "data": {
      "text/html": [
       "<div>\n",
       "<style scoped>\n",
       "    .dataframe tbody tr th:only-of-type {\n",
       "        vertical-align: middle;\n",
       "    }\n",
       "\n",
       "    .dataframe tbody tr th {\n",
       "        vertical-align: top;\n",
       "    }\n",
       "\n",
       "    .dataframe thead th {\n",
       "        text-align: right;\n",
       "    }\n",
       "</style>\n",
       "<table border=\"1\" class=\"dataframe\">\n",
       "  <thead>\n",
       "    <tr style=\"text-align: right;\">\n",
       "      <th></th>\n",
       "      <th>GP</th>\n",
       "      <th>MIN</th>\n",
       "      <th>PTS</th>\n",
       "      <th>FGM</th>\n",
       "      <th>FGA</th>\n",
       "      <th>FG%</th>\n",
       "      <th>3P Made</th>\n",
       "      <th>3PA</th>\n",
       "      <th>3P%</th>\n",
       "      <th>FTM</th>\n",
       "      <th>FTA</th>\n",
       "      <th>FT%</th>\n",
       "      <th>OREB</th>\n",
       "      <th>DREB</th>\n",
       "      <th>REB</th>\n",
       "      <th>AST</th>\n",
       "      <th>STL</th>\n",
       "      <th>BLK</th>\n",
       "      <th>TOV</th>\n",
       "      <th>Target</th>\n",
       "    </tr>\n",
       "  </thead>\n",
       "  <tbody>\n",
       "    <tr>\n",
       "      <th>0</th>\n",
       "      <td>59</td>\n",
       "      <td>12.8</td>\n",
       "      <td>3.4</td>\n",
       "      <td>1.3</td>\n",
       "      <td>2.6</td>\n",
       "      <td>51.0</td>\n",
       "      <td>0.2</td>\n",
       "      <td>0.3</td>\n",
       "      <td>50.0</td>\n",
       "      <td>0.7</td>\n",
       "      <td>0.8</td>\n",
       "      <td>78.0</td>\n",
       "      <td>1.1</td>\n",
       "      <td>2.3</td>\n",
       "      <td>3.3</td>\n",
       "      <td>0.5</td>\n",
       "      <td>0.3</td>\n",
       "      <td>0.4</td>\n",
       "      <td>0.5</td>\n",
       "      <td>1</td>\n",
       "    </tr>\n",
       "    <tr>\n",
       "      <th>1</th>\n",
       "      <td>31</td>\n",
       "      <td>10.7</td>\n",
       "      <td>3.4</td>\n",
       "      <td>1.2</td>\n",
       "      <td>3.3</td>\n",
       "      <td>35.3</td>\n",
       "      <td>0.5</td>\n",
       "      <td>2.1</td>\n",
       "      <td>25.8</td>\n",
       "      <td>0.5</td>\n",
       "      <td>0.9</td>\n",
       "      <td>55.2</td>\n",
       "      <td>0.3</td>\n",
       "      <td>1.1</td>\n",
       "      <td>1.4</td>\n",
       "      <td>0.4</td>\n",
       "      <td>0.3</td>\n",
       "      <td>0.1</td>\n",
       "      <td>0.2</td>\n",
       "      <td>0</td>\n",
       "    </tr>\n",
       "    <tr>\n",
       "      <th>2</th>\n",
       "      <td>48</td>\n",
       "      <td>9.3</td>\n",
       "      <td>4.5</td>\n",
       "      <td>1.7</td>\n",
       "      <td>3.4</td>\n",
       "      <td>49.7</td>\n",
       "      <td>0.0</td>\n",
       "      <td>0.1</td>\n",
       "      <td>0.0</td>\n",
       "      <td>1.2</td>\n",
       "      <td>1.9</td>\n",
       "      <td>61.5</td>\n",
       "      <td>0.4</td>\n",
       "      <td>0.8</td>\n",
       "      <td>1.2</td>\n",
       "      <td>0.8</td>\n",
       "      <td>0.5</td>\n",
       "      <td>0.4</td>\n",
       "      <td>1.0</td>\n",
       "      <td>0</td>\n",
       "    </tr>\n",
       "    <tr>\n",
       "      <th>3</th>\n",
       "      <td>80</td>\n",
       "      <td>27.7</td>\n",
       "      <td>11.2</td>\n",
       "      <td>3.5</td>\n",
       "      <td>9.4</td>\n",
       "      <td>37.4</td>\n",
       "      <td>1.3</td>\n",
       "      <td>4.1</td>\n",
       "      <td>32.9</td>\n",
       "      <td>2.8</td>\n",
       "      <td>3.3</td>\n",
       "      <td>85.0</td>\n",
       "      <td>0.8</td>\n",
       "      <td>1.6</td>\n",
       "      <td>2.4</td>\n",
       "      <td>3.9</td>\n",
       "      <td>1.3</td>\n",
       "      <td>0.1</td>\n",
       "      <td>2.2</td>\n",
       "      <td>1</td>\n",
       "    </tr>\n",
       "    <tr>\n",
       "      <th>4</th>\n",
       "      <td>58</td>\n",
       "      <td>18.4</td>\n",
       "      <td>5.8</td>\n",
       "      <td>1.9</td>\n",
       "      <td>5.3</td>\n",
       "      <td>36.7</td>\n",
       "      <td>0.0</td>\n",
       "      <td>0.1</td>\n",
       "      <td>25.0</td>\n",
       "      <td>1.9</td>\n",
       "      <td>3.1</td>\n",
       "      <td>61.7</td>\n",
       "      <td>0.5</td>\n",
       "      <td>0.7</td>\n",
       "      <td>1.2</td>\n",
       "      <td>1.9</td>\n",
       "      <td>1.1</td>\n",
       "      <td>0.2</td>\n",
       "      <td>1.7</td>\n",
       "      <td>0</td>\n",
       "    </tr>\n",
       "  </tbody>\n",
       "</table>\n",
       "</div>"
      ],
      "text/plain": [
       "   GP   MIN   PTS  FGM  FGA   FG%  3P Made  3PA   3P%  FTM  FTA   FT%  OREB  \\\n",
       "0  59  12.8   3.4  1.3  2.6  51.0      0.2  0.3  50.0  0.7  0.8  78.0   1.1   \n",
       "1  31  10.7   3.4  1.2  3.3  35.3      0.5  2.1  25.8  0.5  0.9  55.2   0.3   \n",
       "2  48   9.3   4.5  1.7  3.4  49.7      0.0  0.1   0.0  1.2  1.9  61.5   0.4   \n",
       "3  80  27.7  11.2  3.5  9.4  37.4      1.3  4.1  32.9  2.8  3.3  85.0   0.8   \n",
       "4  58  18.4   5.8  1.9  5.3  36.7      0.0  0.1  25.0  1.9  3.1  61.7   0.5   \n",
       "\n",
       "   DREB  REB  AST  STL  BLK  TOV  Target  \n",
       "0   2.3  3.3  0.5  0.3  0.4  0.5       1  \n",
       "1   1.1  1.4  0.4  0.3  0.1  0.2       0  \n",
       "2   0.8  1.2  0.8  0.5  0.4  1.0       0  \n",
       "3   1.6  2.4  3.9  1.3  0.1  2.2       1  \n",
       "4   0.7  1.2  1.9  1.1  0.2  1.7       0  "
      ]
     },
     "execution_count": 8,
     "metadata": {},
     "output_type": "execute_result"
    }
   ],
   "source": [
    "df.head()"
   ]
  },
  {
   "cell_type": "code",
   "execution_count": 9,
   "id": "39eb2870",
   "metadata": {},
   "outputs": [],
   "source": [
    "# df.info()"
   ]
  },
  {
   "cell_type": "code",
   "execution_count": 10,
   "id": "f87db889",
   "metadata": {},
   "outputs": [],
   "source": [
    "# df.hist(bins=50,figsize=(20,15))"
   ]
  },
  {
   "cell_type": "code",
   "execution_count": 103,
   "id": "adf5682e",
   "metadata": {},
   "outputs": [],
   "source": [
    "X= df.drop('Target',axis=1)\n",
    "y= df.loc[:,'Target']"
   ]
  },
  {
   "cell_type": "code",
   "execution_count": 11,
   "id": "9951203b",
   "metadata": {},
   "outputs": [],
   "source": [
    "X_train,X_test,y_train,y_test=train_test_split(X,y,test_size=0.2,random_state=1)"
   ]
  },
  {
   "cell_type": "code",
   "execution_count": 12,
   "id": "ae49ee1f",
   "metadata": {},
   "outputs": [],
   "source": [
    "# X_train.shape"
   ]
  },
  {
   "cell_type": "code",
   "execution_count": 13,
   "id": "8708c923",
   "metadata": {},
   "outputs": [],
   "source": [
    "# X_test.shape"
   ]
  },
  {
   "cell_type": "code",
   "execution_count": 14,
   "id": "df82348e",
   "metadata": {},
   "outputs": [],
   "source": [
    "corr_matrix= X.corr()"
   ]
  },
  {
   "cell_type": "code",
   "execution_count": 15,
   "id": "3c18db3e",
   "metadata": {},
   "outputs": [
    {
     "name": "stdout",
     "output_type": "stream",
     "text": [
      "               GP       MIN       PTS       FGM       FGA       FG%   3P Made  \\\n",
      "GP       1.000000  0.597446  0.559332  0.562213  0.538190  0.311106  0.119768   \n",
      "MIN      0.597446  1.000000  0.918264  0.905489  0.914114  0.211973  0.390542   \n",
      "PTS      0.559332  0.918264  1.000000  0.991033  0.980013  0.272255  0.337452   \n",
      "FGM      0.562213  0.905489  0.991033  1.000000  0.979742  0.308350  0.277842   \n",
      "FGA      0.538190  0.914114  0.980013  0.979742  1.000000  0.145322  0.382426   \n",
      "FG%      0.311106  0.211973  0.272255  0.308350  0.145322  1.000000 -0.304532   \n",
      "3P Made  0.119768  0.390542  0.337452  0.277842  0.382426 -0.304532  1.000000   \n",
      "3PA      0.106866  0.398589  0.341765  0.282244  0.399330 -0.360298  0.982678   \n",
      "3P%      0.026659  0.169725  0.147124  0.114917  0.202011 -0.376032  0.619991   \n",
      "FTM      0.503171  0.811353  0.899845  0.853349  0.832288  0.267298  0.157143   \n",
      "FTA      0.491696  0.795711  0.882502  0.843725  0.807849  0.320679  0.090530   \n",
      "FT%      0.200386  0.241640  0.246680  0.214689  0.262776 -0.142038  0.310734   \n",
      "OREB     0.416948  0.586255  0.590605  0.610619  0.514503  0.527119 -0.221181   \n",
      "DREB     0.479671  0.756072  0.716958  0.723419  0.655417  0.431919  0.017703   \n",
      "REB      0.473715  0.719870  0.696668  0.708522  0.627248  0.484302 -0.072795   \n",
      "AST      0.362790  0.625946  0.546482  0.521606  0.587837 -0.130397  0.415002   \n",
      "STL      0.456121  0.766311  0.669969  0.650974  0.689307  0.040709  0.353963   \n",
      "BLK      0.303153  0.432429  0.433771  0.442781  0.360720  0.414445 -0.157557   \n",
      "TOV      0.523640  0.830394  0.853030  0.834749  0.848879  0.125793  0.269701   \n",
      "\n",
      "              3PA       3P%       FTM       FTA       FT%      OREB      DREB  \\\n",
      "GP       0.106866  0.026659  0.503171  0.491696  0.200386  0.416948  0.479671   \n",
      "MIN      0.398589  0.169725  0.811353  0.795711  0.241640  0.586255  0.756072   \n",
      "PTS      0.341765  0.147124  0.899845  0.882502  0.246680  0.590605  0.716958   \n",
      "FGM      0.282244  0.114917  0.853349  0.843725  0.214689  0.610619  0.723419   \n",
      "FGA      0.399330  0.202011  0.832288  0.807849  0.262776  0.514503  0.655417   \n",
      "FG%     -0.360298 -0.376032  0.267298  0.320679 -0.142038  0.527119  0.431919   \n",
      "3P Made  0.982678  0.619991  0.157143  0.090530  0.310734 -0.221181  0.017703   \n",
      "3PA      1.000000  0.612823  0.165934  0.096702  0.321690 -0.237302  0.007024   \n",
      "3P%      0.612823  1.000000  0.018112 -0.048118  0.329070 -0.294037 -0.132653   \n",
      "FTM      0.165934  0.018112  1.000000  0.980388  0.236930  0.604364  0.686171   \n",
      "FTA      0.096702 -0.048118  0.980388  1.000000  0.092367  0.673121  0.731581   \n",
      "FT%      0.321690  0.329070  0.236930  0.092367  1.000000 -0.143924 -0.016600   \n",
      "OREB    -0.237302 -0.294037  0.604364  0.673121 -0.143924  1.000000  0.847967   \n",
      "DREB     0.007024 -0.132653  0.686171  0.731581 -0.016600  0.847967  1.000000   \n",
      "REB     -0.086081 -0.198723  0.681736  0.737864 -0.065965  0.937130  0.979235   \n",
      "AST      0.444800  0.296920  0.473577  0.419419  0.308191 -0.016893  0.193664   \n",
      "STL      0.379792  0.233972  0.597443  0.568765  0.228524  0.275706  0.414556   \n",
      "BLK     -0.172752 -0.264620  0.462012  0.521547 -0.150065  0.665600  0.712691   \n",
      "TOV      0.290051  0.111586  0.811781  0.800064  0.197130  0.434725  0.591945   \n",
      "\n",
      "              REB       AST       STL       BLK       TOV  \n",
      "GP       0.473715  0.362790  0.456121  0.303153  0.523640  \n",
      "MIN      0.719870  0.625946  0.766311  0.432429  0.830394  \n",
      "PTS      0.696668  0.546482  0.669969  0.433771  0.853030  \n",
      "FGM      0.708522  0.521606  0.650974  0.442781  0.834749  \n",
      "FGA      0.627248  0.587837  0.689307  0.360720  0.848879  \n",
      "FG%      0.484302 -0.130397  0.040709  0.414445  0.125793  \n",
      "3P Made -0.072795  0.415002  0.353963 -0.157557  0.269701  \n",
      "3PA     -0.086081  0.444800  0.379792 -0.172752  0.290051  \n",
      "3P%     -0.198723  0.296920  0.233972 -0.264620  0.111586  \n",
      "FTM      0.681736  0.473577  0.597443  0.462012  0.811781  \n",
      "FTA      0.737864  0.419419  0.568765  0.521547  0.800064  \n",
      "FT%     -0.065965  0.308191  0.228524 -0.150065  0.197130  \n",
      "OREB     0.937130 -0.016893  0.275706  0.665600  0.434725  \n",
      "DREB     0.979235  0.193664  0.414556  0.712691  0.591945  \n",
      "REB      1.000000  0.121015  0.377460  0.720953  0.554782  \n",
      "AST      0.121015  1.000000  0.745087 -0.063675  0.736611  \n",
      "STL      0.377460  0.745087  1.000000  0.161667  0.718808  \n",
      "BLK      0.720953 -0.063675  0.161667  1.000000  0.333091  \n",
      "TOV      0.554782  0.736611  0.718808  0.333091  1.000000  \n"
     ]
    }
   ],
   "source": [
    "print(corr_matrix)"
   ]
  },
  {
   "cell_type": "code",
   "execution_count": 16,
   "id": "649260d7",
   "metadata": {},
   "outputs": [],
   "source": [
    "from sklearn.linear_model import LogisticRegression\n",
    "from sklearn.svm import SVC\n",
    "from sklearn.naive_bayes import GaussianNB\n",
    "from sklearn.neighbors import KNeighborsClassifier\n",
    "from sklearn.tree import DecisionTreeClassifier\n",
    "from sklearn.ensemble import RandomForestClassifier\n",
    "from xgboost import XGBClassifier, XGBRFClassifier\n",
    "from sklearn.ensemble import AdaBoostClassifier\n",
    "from xgboost import plot_tree, plot_importance"
   ]
  },
  {
   "cell_type": "code",
   "execution_count": 17,
   "id": "4290721b",
   "metadata": {},
   "outputs": [],
   "source": [
    "# scaler=StandardScaler()\n",
    "# X_trainS=pd.DataFrame(scaler.fit_transform(X_train),columns=X_train.columns)\n",
    "# X_testS= scaler.transform(X_test)"
   ]
  },
  {
   "cell_type": "code",
   "execution_count": 18,
   "id": "ec109b08",
   "metadata": {},
   "outputs": [],
   "source": [
    "# def score(model,title=\"Model\"):\n",
    "#     model.fit(X_train,y_train)\n",
    "#     pred_train=model.predict(X_train)\n",
    "#     preds = model.predict(X_test)\n",
    "#     accuracy_train = round(accuracy_score(y_train, pred_train), 5)\n",
    "#     accuracy_test = round(accuracy_score(y_test, preds), 5)\n",
    "#     print('Train Accuracy for', title, ':', accuracy_train, '\\n')\n",
    "#     print('Test Accuracy for', title, ':', accuracy_test, '\\n')"
   ]
  },
  {
   "cell_type": "code",
   "execution_count": 19,
   "id": "55d5b089",
   "metadata": {},
   "outputs": [],
   "source": [
    "# def scoreS(model,title=\"Model\"):\n",
    "#     model.fit(X_trainS,y_train)\n",
    "#     pred_train=model.predict(X_trainS)\n",
    "#     preds = model.predict(X_testS)\n",
    "#     accuracy_train = round(accuracy_score(y_train, pred_train), 5)\n",
    "#     accuracy_test = round(accuracy_score(y_test, preds), 5)\n",
    "#     print('TrainS Accuracy for', title, ':', accuracy_train, '\\n')\n",
    "#     print('TestS Accuracy for', title, ':', accuracy_test, '\\n')"
   ]
  },
  {
   "cell_type": "code",
   "execution_count": 20,
   "id": "00f46a7b",
   "metadata": {},
   "outputs": [],
   "source": [
    "# model= KNeighborsClassifier(n_neighbors=3,weights='uniform', leaf_size=50)\n",
    "# TrainS Accuracy for KNNCkassifier : 0.82159  TestS Accuracy for KNNCkassifier : 0.71493\n",
    "# Train Accuracy for KNNCkassifier : 0.84205  Test Accuracy for KNNCkassifier : 0.68778 \n",
    "\n",
    "# model= DecisionTreeClassifier(random_state=1,max_depth=10)\n",
    "# Train Accuracy for DecisionTreeCassifier : 0.98864  Test Accuracy for DecisionTreeCassifier : 0.64706\n",
    "\n",
    "# model= RandomForestClassifier(n_estimators=1100,max_depth=20,random_state=0)\n",
    "# Train Accuracy for RandomForestCassifier : 0.98864   Test Accuracy for RandomForestCassifier : 0.71493 TestS Accuracy for RandomForestClassifier : 0.72851 for defaut\n",
    "\n",
    "# model= XGBClassifier(n_estimators=1000,learning_rate=0.01)\n",
    "# Train Accuracy for XGBCassifier : 0.98864  Test Accuracy for XGBCassifier : 0.71041 \n",
    "\n",
    "# model = XGBRFClassifier(n_estimators=1000, subsample=0.8, colsample_bynode=0.7)\n",
    "# Train Accuracy for XGBCassifier : 0.88295  Test Accuracy for XGBCassifier : 0.70588\n",
    "# Train Accuracy for XGBCassifier : 0.88864  Test Accuracy for XGBCassifier : 0.70136  default with n_estimatores=1000"
   ]
  },
  {
   "cell_type": "code",
   "execution_count": 192,
   "id": "0424633e",
   "metadata": {},
   "outputs": [
    {
     "data": {
      "text/plain": [
       "KNeighborsClassifier(leaf_size=50, n_neighbors=3)"
      ]
     },
     "execution_count": 192,
     "metadata": {},
     "output_type": "execute_result"
    }
   ],
   "source": [
    "# model1= KNeighborsClassifier(n_neighbors=3,weights='uniform', leaf_size=50)\n",
    "# model1.fit(X_train,y_train)"
   ]
  },
  {
   "cell_type": "code",
   "execution_count": 195,
   "id": "7a42089b",
   "metadata": {},
   "outputs": [
    {
     "data": {
      "text/plain": [
       "KNeighborsClassifier(leaf_size=50, n_neighbors=3)"
      ]
     },
     "execution_count": 195,
     "metadata": {},
     "output_type": "execute_result"
    }
   ],
   "source": [
    "# model1S= KNeighborsClassifier(n_neighbors=3,weights='uniform', leaf_size=50)\n",
    "# model1S.fit(X_trainS,y_train)"
   ]
  },
  {
   "cell_type": "code",
   "execution_count": 199,
   "id": "833aa3be",
   "metadata": {},
   "outputs": [
    {
     "data": {
      "text/plain": [
       "DecisionTreeClassifier(max_depth=10, random_state=1)"
      ]
     },
     "execution_count": 199,
     "metadata": {},
     "output_type": "execute_result"
    }
   ],
   "source": [
    "# model2= DecisionTreeClassifier(random_state=1,max_depth=10)\n",
    "# model2.fit(X_train,y_train)"
   ]
  },
  {
   "cell_type": "code",
   "execution_count": 204,
   "id": "af43fe72",
   "metadata": {},
   "outputs": [
    {
     "data": {
      "text/plain": [
       "RandomForestClassifier(max_depth=20, n_estimators=1100, random_state=0)"
      ]
     },
     "execution_count": 204,
     "metadata": {},
     "output_type": "execute_result"
    }
   ],
   "source": [
    "# model3= RandomForestClassifier(n_estimators=1100,max_depth=20,random_state=0)\n",
    "# model3.fit(X_train,y_train)"
   ]
  },
  {
   "cell_type": "code",
   "execution_count": 216,
   "id": "af979e0a",
   "metadata": {},
   "outputs": [
    {
     "data": {
      "text/plain": [
       "RandomForestClassifier(random_state=1)"
      ]
     },
     "execution_count": 216,
     "metadata": {},
     "output_type": "execute_result"
    }
   ],
   "source": [
    "# model3S= RandomForestClassifier(random_state=1)\n",
    "# model3S.fit(X_trainS,y_train)"
   ]
  },
  {
   "cell_type": "code",
   "execution_count": 222,
   "id": "98cc8bce",
   "metadata": {},
   "outputs": [
    {
     "data": {
      "text/plain": [
       "XGBClassifier(base_score=0.5, booster='gbtree', callbacks=None,\n",
       "              colsample_bylevel=1, colsample_bynode=1, colsample_bytree=1,\n",
       "              early_stopping_rounds=None, enable_categorical=False,\n",
       "              eval_metric=None, gamma=0, gpu_id=-1, grow_policy='depthwise',\n",
       "              importance_type=None, interaction_constraints='',\n",
       "              learning_rate=0.01, max_bin=256, max_cat_to_onehot=4,\n",
       "              max_delta_step=0, max_depth=6, max_leaves=0, min_child_weight=1,\n",
       "              missing=nan, monotone_constraints='()', n_estimators=1000,\n",
       "              n_jobs=0, num_parallel_tree=1, predictor='auto', random_state=0,\n",
       "              reg_alpha=0, reg_lambda=1, ...)"
      ]
     },
     "execution_count": 222,
     "metadata": {},
     "output_type": "execute_result"
    }
   ],
   "source": [
    "# model4= XGBClassifier(n_estimators=1000,learning_rate=0.01)\n",
    "# model4.fit(X_train,y_train)"
   ]
  },
  {
   "cell_type": "code",
   "execution_count": 225,
   "id": "3a09f71a",
   "metadata": {},
   "outputs": [
    {
     "data": {
      "text/plain": [
       "XGBRFClassifier(base_score=0.5, booster='gbtree', callbacks=None,\n",
       "                colsample_bylevel=1, colsample_bynode=0.7, colsample_bytree=1,\n",
       "                early_stopping_rounds=None, enable_categorical=False,\n",
       "                eval_metric=None, gamma=0, gpu_id=-1, grow_policy='depthwise',\n",
       "                importance_type=None, interaction_constraints='', max_bin=256,\n",
       "                max_cat_to_onehot=4, max_delta_step=0, max_depth=6,\n",
       "                max_leaves=0, min_child_weight=1, missing=nan,\n",
       "                monotone_constraints='()', n_estimators=1000, n_jobs=0,\n",
       "                num_parallel_tree=1000, objective='binary:logistic',\n",
       "                predictor='auto', random_state=0, reg_alpha=0,\n",
       "                sampling_method='uniform', ...)"
      ]
     },
     "execution_count": 225,
     "metadata": {},
     "output_type": "execute_result"
    }
   ],
   "source": [
    "# model5 = XGBRFClassifier(n_estimators=1000, subsample=0.8, colsample_bynode=0.7)\n",
    "# model5.fit(X_train,y_train)"
   ]
  },
  {
   "cell_type": "code",
   "execution_count": 226,
   "id": "a7da359a",
   "metadata": {},
   "outputs": [
    {
     "data": {
      "text/plain": [
       "XGBRFClassifier(base_score=0.5, booster='gbtree', callbacks=None,\n",
       "                colsample_bylevel=1, colsample_bytree=1,\n",
       "                early_stopping_rounds=None, enable_categorical=False,\n",
       "                eval_metric=None, gamma=0, gpu_id=-1, grow_policy='depthwise',\n",
       "                importance_type=None, interaction_constraints='', max_bin=256,\n",
       "                max_cat_to_onehot=4, max_delta_step=0, max_depth=6,\n",
       "                max_leaves=0, min_child_weight=1, missing=nan,\n",
       "                monotone_constraints='()', n_estimators=1000, n_jobs=0,\n",
       "                num_parallel_tree=1000, objective='binary:logistic',\n",
       "                predictor='auto', random_state=0, reg_alpha=0,\n",
       "                sampling_method='uniform', scale_pos_weight=1, ...)"
      ]
     },
     "execution_count": 226,
     "metadata": {},
     "output_type": "execute_result"
    }
   ],
   "source": [
    "# model5d = XGBRFClassifier(n_estimators=1000)\n",
    "# model5d.fit(X_train,y_train)"
   ]
  },
  {
   "cell_type": "code",
   "execution_count": 134,
   "id": "67192937",
   "metadata": {},
   "outputs": [],
   "source": [
    "test= pd.read_csv('test_data.csv')"
   ]
  },
  {
   "cell_type": "code",
   "execution_count": 22,
   "id": "46023759",
   "metadata": {},
   "outputs": [],
   "source": [
    "# test.astype()"
   ]
  },
  {
   "cell_type": "code",
   "execution_count": 135,
   "id": "068fbee3",
   "metadata": {},
   "outputs": [],
   "source": [
    "test.GP=test.GP.astype(np.int64)"
   ]
  },
  {
   "cell_type": "code",
   "execution_count": 24,
   "id": "51c1cd1e",
   "metadata": {},
   "outputs": [],
   "source": [
    "# testS= pd.DataFrame(scaler.fit_transform(test),columns=test.columns)"
   ]
  },
  {
   "cell_type": "code",
   "execution_count": 25,
   "id": "55150b16",
   "metadata": {},
   "outputs": [],
   "source": [
    "# test.head()"
   ]
  },
  {
   "cell_type": "code",
   "execution_count": 194,
   "id": "84b8c024",
   "metadata": {},
   "outputs": [],
   "source": [
    "# yPredict1= model1.predict(test)  #score is 79.78339350180505"
   ]
  },
  {
   "cell_type": "code",
   "execution_count": 196,
   "id": "46096286",
   "metadata": {},
   "outputs": [],
   "source": [
    "# yPredict1S=model1S.predict(testS) #score is 79.78339350180505."
   ]
  },
  {
   "cell_type": "code",
   "execution_count": 200,
   "id": "a061e9f8",
   "metadata": {},
   "outputs": [],
   "source": [
    "# yPredict2= model2.predict(test) # score is 90.25270758122743."
   ]
  },
  {
   "cell_type": "code",
   "execution_count": 205,
   "id": "1f2393fc",
   "metadata": {},
   "outputs": [],
   "source": [
    "# yPredict3= model3.predict(test) #score is 91.33574007220217."
   ]
  },
  {
   "cell_type": "code",
   "execution_count": 217,
   "id": "e0f98432",
   "metadata": {},
   "outputs": [],
   "source": [
    "# yPredict3S= model3S.predict(testS) #score is 90.25270758122743."
   ]
  },
  {
   "cell_type": "code",
   "execution_count": 223,
   "id": "c3ef36e3",
   "metadata": {},
   "outputs": [],
   "source": [
    "# yPredict4= model4.predict(test) #score is 91.69675090252709"
   ]
  },
  {
   "cell_type": "code",
   "execution_count": 227,
   "id": "1eb89327",
   "metadata": {},
   "outputs": [],
   "source": [
    "# yPredict5=model5.predict(test) #score is 83.03249097472924"
   ]
  },
  {
   "cell_type": "code",
   "execution_count": 228,
   "id": "450de42d",
   "metadata": {},
   "outputs": [],
   "source": [
    "# yPredict5d=model5d.predict(test) #score is 83.75451263537906."
   ]
  },
  {
   "cell_type": "code",
   "execution_count": 229,
   "id": "52e8e39c",
   "metadata": {},
   "outputs": [],
   "source": [
    "# predict=[yPredict1,yPredict1S,yPredict2,yPredict3,yPredict3S,yPredict4,yPredict5,yPredict5d]"
   ]
  },
  {
   "cell_type": "code",
   "execution_count": 246,
   "id": "34133c8f",
   "metadata": {},
   "outputs": [],
   "source": [
    "# i=1\n",
    "# #for predictions in predict:\n",
    "#     res= pd.DataFrame(predictions)\n",
    "#     res.index=test.index\n",
    "#     res.columns=[\"prediction\"]\n",
    "#     res.to_csv(f\"predict{i}.csv\",index=False)\n",
    "#     i=i+1"
   ]
  },
  {
   "cell_type": "code",
   "execution_count": 65,
   "id": "145edb58",
   "metadata": {},
   "outputs": [],
   "source": [
    "from sklearn.model_selection import GridSearchCV"
   ]
  },
  {
   "cell_type": "code",
   "execution_count": 66,
   "id": "0d936130",
   "metadata": {},
   "outputs": [],
   "source": [
    "model=[XGBClassifier(),RandomForestClassifier(random_state=42),DecisionTreeClassifier(random_state=42)]"
   ]
  },
  {
   "cell_type": "code",
   "execution_count": 118,
   "id": "19df4625",
   "metadata": {},
   "outputs": [],
   "source": [
    "params={'n_estimators': [500,900,1000,1100],\n",
    "    'colsample_bytree': np.linspace(0.5,1,6),\n",
    "    'max_depth': [15,20,25],\n",
    "    'reg_alpha': [1.1, 1.2, 1.3],\n",
    "    'reg_lambda': [1.1, 1.2, 1.3],\n",
    "    'subsample': [0.7, 0.8, 0.9]\n",
    "  }"
   ]
  },
  {
   "cell_type": "code",
   "execution_count": 119,
   "id": "ffbbf621",
   "metadata": {},
   "outputs": [],
   "source": [
    "gs = GridSearchCV(\n",
    "        estimator=model[0],\n",
    "        param_grid=params, \n",
    "        cv=4, \n",
    "        n_jobs=-1, \n",
    "    )"
   ]
  },
  {
   "cell_type": "code",
   "execution_count": 120,
   "id": "d344ac22",
   "metadata": {},
   "outputs": [],
   "source": [
    "modelG2= gs.fit(X,y)\n",
    "modelG2= modelG2.best_estimator_"
   ]
  },
  {
   "cell_type": "code",
   "execution_count": 121,
   "id": "74564407",
   "metadata": {},
   "outputs": [
    {
     "data": {
      "text/plain": [
       "XGBClassifier(base_score=0.5, booster='gbtree', callbacks=None,\n",
       "              colsample_bylevel=1, colsample_bynode=1, colsample_bytree=0.8,\n",
       "              early_stopping_rounds=None, enable_categorical=False,\n",
       "              eval_metric=None, gamma=0, gpu_id=-1, grow_policy='depthwise',\n",
       "              importance_type=None, interaction_constraints='',\n",
       "              learning_rate=0.300000012, max_bin=256, max_cat_to_onehot=4,\n",
       "              max_delta_step=0, max_depth=15, max_leaves=0, min_child_weight=1,\n",
       "              missing=nan, monotone_constraints='()', n_estimators=900,\n",
       "              n_jobs=0, num_parallel_tree=1, predictor='auto', random_state=0,\n",
       "              reg_alpha=1.2, reg_lambda=1.2, ...)"
      ]
     },
     "execution_count": 121,
     "metadata": {},
     "output_type": "execute_result"
    }
   ],
   "source": [
    "modelG2.fit(X_train,y_train)"
   ]
  },
  {
   "cell_type": "code",
   "execution_count": 122,
   "id": "0ddf58d1",
   "metadata": {
    "scrolled": true
   },
   "outputs": [
    {
     "name": "stdout",
     "output_type": "stream",
     "text": [
      "0.7104072398190046\n",
      "0.9886363636363636\n"
     ]
    }
   ],
   "source": [
    "pred= modelG2.predict(X_test)\n",
    "print(accuracy_score(y_test,pred))\n",
    "print(accuracy_score(y_train,modelG2.predict(X_train)))"
   ]
  },
  {
   "cell_type": "code",
   "execution_count": 123,
   "id": "8b91489b",
   "metadata": {},
   "outputs": [],
   "source": [
    "y_predG2= modelG2.predict(test) #score is 94.58483754512635.\n",
    "res= pd.DataFrame(y_predG2)\n",
    "res.index=test.index\n",
    "res.columns=[\"prediction\"]\n",
    "res.to_csv(\"y_predG4.csv\",index=False)"
   ]
  },
  {
   "cell_type": "code",
   "execution_count": 125,
   "id": "6e291a17",
   "metadata": {},
   "outputs": [],
   "source": [
    "cor= df.corr()"
   ]
  },
  {
   "cell_type": "code",
   "execution_count": 126,
   "id": "6ac63192",
   "metadata": {},
   "outputs": [
    {
     "data": {
      "text/html": [
       "<div>\n",
       "<style scoped>\n",
       "    .dataframe tbody tr th:only-of-type {\n",
       "        vertical-align: middle;\n",
       "    }\n",
       "\n",
       "    .dataframe tbody tr th {\n",
       "        vertical-align: top;\n",
       "    }\n",
       "\n",
       "    .dataframe thead th {\n",
       "        text-align: right;\n",
       "    }\n",
       "</style>\n",
       "<table border=\"1\" class=\"dataframe\">\n",
       "  <thead>\n",
       "    <tr style=\"text-align: right;\">\n",
       "      <th></th>\n",
       "      <th>GP</th>\n",
       "      <th>MIN</th>\n",
       "      <th>PTS</th>\n",
       "      <th>FGM</th>\n",
       "      <th>FGA</th>\n",
       "      <th>FG%</th>\n",
       "      <th>3P Made</th>\n",
       "      <th>3PA</th>\n",
       "      <th>3P%</th>\n",
       "      <th>FTM</th>\n",
       "      <th>FTA</th>\n",
       "      <th>FT%</th>\n",
       "      <th>OREB</th>\n",
       "      <th>DREB</th>\n",
       "      <th>REB</th>\n",
       "      <th>AST</th>\n",
       "      <th>STL</th>\n",
       "      <th>BLK</th>\n",
       "      <th>TOV</th>\n",
       "      <th>Target</th>\n",
       "    </tr>\n",
       "  </thead>\n",
       "  <tbody>\n",
       "    <tr>\n",
       "      <th>GP</th>\n",
       "      <td>1.000000</td>\n",
       "      <td>0.597446</td>\n",
       "      <td>0.559332</td>\n",
       "      <td>0.562213</td>\n",
       "      <td>0.538190</td>\n",
       "      <td>0.311106</td>\n",
       "      <td>0.119768</td>\n",
       "      <td>0.106866</td>\n",
       "      <td>0.026659</td>\n",
       "      <td>0.503171</td>\n",
       "      <td>0.491696</td>\n",
       "      <td>0.200386</td>\n",
       "      <td>0.416948</td>\n",
       "      <td>0.479671</td>\n",
       "      <td>0.473715</td>\n",
       "      <td>0.362790</td>\n",
       "      <td>0.456121</td>\n",
       "      <td>0.303153</td>\n",
       "      <td>0.523640</td>\n",
       "      <td>0.415001</td>\n",
       "    </tr>\n",
       "    <tr>\n",
       "      <th>MIN</th>\n",
       "      <td>0.597446</td>\n",
       "      <td>1.000000</td>\n",
       "      <td>0.918264</td>\n",
       "      <td>0.905489</td>\n",
       "      <td>0.914114</td>\n",
       "      <td>0.211973</td>\n",
       "      <td>0.390542</td>\n",
       "      <td>0.398589</td>\n",
       "      <td>0.169725</td>\n",
       "      <td>0.811353</td>\n",
       "      <td>0.795711</td>\n",
       "      <td>0.241640</td>\n",
       "      <td>0.586255</td>\n",
       "      <td>0.756072</td>\n",
       "      <td>0.719870</td>\n",
       "      <td>0.625946</td>\n",
       "      <td>0.766311</td>\n",
       "      <td>0.432429</td>\n",
       "      <td>0.830394</td>\n",
       "      <td>0.354152</td>\n",
       "    </tr>\n",
       "    <tr>\n",
       "      <th>PTS</th>\n",
       "      <td>0.559332</td>\n",
       "      <td>0.918264</td>\n",
       "      <td>1.000000</td>\n",
       "      <td>0.991033</td>\n",
       "      <td>0.980013</td>\n",
       "      <td>0.272255</td>\n",
       "      <td>0.337452</td>\n",
       "      <td>0.341765</td>\n",
       "      <td>0.147124</td>\n",
       "      <td>0.899845</td>\n",
       "      <td>0.882502</td>\n",
       "      <td>0.246680</td>\n",
       "      <td>0.590605</td>\n",
       "      <td>0.716958</td>\n",
       "      <td>0.696668</td>\n",
       "      <td>0.546482</td>\n",
       "      <td>0.669969</td>\n",
       "      <td>0.433771</td>\n",
       "      <td>0.853030</td>\n",
       "      <td>0.354192</td>\n",
       "    </tr>\n",
       "    <tr>\n",
       "      <th>FGM</th>\n",
       "      <td>0.562213</td>\n",
       "      <td>0.905489</td>\n",
       "      <td>0.991033</td>\n",
       "      <td>1.000000</td>\n",
       "      <td>0.979742</td>\n",
       "      <td>0.308350</td>\n",
       "      <td>0.277842</td>\n",
       "      <td>0.282244</td>\n",
       "      <td>0.114917</td>\n",
       "      <td>0.853349</td>\n",
       "      <td>0.843725</td>\n",
       "      <td>0.214689</td>\n",
       "      <td>0.610619</td>\n",
       "      <td>0.723419</td>\n",
       "      <td>0.708522</td>\n",
       "      <td>0.521606</td>\n",
       "      <td>0.650974</td>\n",
       "      <td>0.442781</td>\n",
       "      <td>0.834749</td>\n",
       "      <td>0.356119</td>\n",
       "    </tr>\n",
       "    <tr>\n",
       "      <th>FGA</th>\n",
       "      <td>0.538190</td>\n",
       "      <td>0.914114</td>\n",
       "      <td>0.980013</td>\n",
       "      <td>0.979742</td>\n",
       "      <td>1.000000</td>\n",
       "      <td>0.145322</td>\n",
       "      <td>0.382426</td>\n",
       "      <td>0.399330</td>\n",
       "      <td>0.202011</td>\n",
       "      <td>0.832288</td>\n",
       "      <td>0.807849</td>\n",
       "      <td>0.262776</td>\n",
       "      <td>0.514503</td>\n",
       "      <td>0.655417</td>\n",
       "      <td>0.627248</td>\n",
       "      <td>0.587837</td>\n",
       "      <td>0.689307</td>\n",
       "      <td>0.360720</td>\n",
       "      <td>0.848879</td>\n",
       "      <td>0.327988</td>\n",
       "    </tr>\n",
       "    <tr>\n",
       "      <th>FG%</th>\n",
       "      <td>0.311106</td>\n",
       "      <td>0.211973</td>\n",
       "      <td>0.272255</td>\n",
       "      <td>0.308350</td>\n",
       "      <td>0.145322</td>\n",
       "      <td>1.000000</td>\n",
       "      <td>-0.304532</td>\n",
       "      <td>-0.360298</td>\n",
       "      <td>-0.376032</td>\n",
       "      <td>0.267298</td>\n",
       "      <td>0.320679</td>\n",
       "      <td>-0.142038</td>\n",
       "      <td>0.527119</td>\n",
       "      <td>0.431919</td>\n",
       "      <td>0.484302</td>\n",
       "      <td>-0.130397</td>\n",
       "      <td>0.040709</td>\n",
       "      <td>0.414445</td>\n",
       "      <td>0.125793</td>\n",
       "      <td>0.252236</td>\n",
       "    </tr>\n",
       "    <tr>\n",
       "      <th>3P Made</th>\n",
       "      <td>0.119768</td>\n",
       "      <td>0.390542</td>\n",
       "      <td>0.337452</td>\n",
       "      <td>0.277842</td>\n",
       "      <td>0.382426</td>\n",
       "      <td>-0.304532</td>\n",
       "      <td>1.000000</td>\n",
       "      <td>0.982678</td>\n",
       "      <td>0.619991</td>\n",
       "      <td>0.157143</td>\n",
       "      <td>0.090530</td>\n",
       "      <td>0.310734</td>\n",
       "      <td>-0.221181</td>\n",
       "      <td>0.017703</td>\n",
       "      <td>-0.072795</td>\n",
       "      <td>0.415002</td>\n",
       "      <td>0.353963</td>\n",
       "      <td>-0.157557</td>\n",
       "      <td>0.269701</td>\n",
       "      <td>0.037159</td>\n",
       "    </tr>\n",
       "    <tr>\n",
       "      <th>3PA</th>\n",
       "      <td>0.106866</td>\n",
       "      <td>0.398589</td>\n",
       "      <td>0.341765</td>\n",
       "      <td>0.282244</td>\n",
       "      <td>0.399330</td>\n",
       "      <td>-0.360298</td>\n",
       "      <td>0.982678</td>\n",
       "      <td>1.000000</td>\n",
       "      <td>0.612823</td>\n",
       "      <td>0.165934</td>\n",
       "      <td>0.096702</td>\n",
       "      <td>0.321690</td>\n",
       "      <td>-0.237302</td>\n",
       "      <td>0.007024</td>\n",
       "      <td>-0.086081</td>\n",
       "      <td>0.444800</td>\n",
       "      <td>0.379792</td>\n",
       "      <td>-0.172752</td>\n",
       "      <td>0.290051</td>\n",
       "      <td>0.018759</td>\n",
       "    </tr>\n",
       "    <tr>\n",
       "      <th>3P%</th>\n",
       "      <td>0.026659</td>\n",
       "      <td>0.169725</td>\n",
       "      <td>0.147124</td>\n",
       "      <td>0.114917</td>\n",
       "      <td>0.202011</td>\n",
       "      <td>-0.376032</td>\n",
       "      <td>0.619991</td>\n",
       "      <td>0.612823</td>\n",
       "      <td>1.000000</td>\n",
       "      <td>0.018112</td>\n",
       "      <td>-0.048118</td>\n",
       "      <td>0.329070</td>\n",
       "      <td>-0.294037</td>\n",
       "      <td>-0.132653</td>\n",
       "      <td>-0.198723</td>\n",
       "      <td>0.296920</td>\n",
       "      <td>0.233972</td>\n",
       "      <td>-0.264620</td>\n",
       "      <td>0.111586</td>\n",
       "      <td>0.001285</td>\n",
       "    </tr>\n",
       "    <tr>\n",
       "      <th>FTM</th>\n",
       "      <td>0.503171</td>\n",
       "      <td>0.811353</td>\n",
       "      <td>0.899845</td>\n",
       "      <td>0.853349</td>\n",
       "      <td>0.832288</td>\n",
       "      <td>0.267298</td>\n",
       "      <td>0.157143</td>\n",
       "      <td>0.165934</td>\n",
       "      <td>0.018112</td>\n",
       "      <td>1.000000</td>\n",
       "      <td>0.980388</td>\n",
       "      <td>0.236930</td>\n",
       "      <td>0.604364</td>\n",
       "      <td>0.686171</td>\n",
       "      <td>0.681736</td>\n",
       "      <td>0.473577</td>\n",
       "      <td>0.597443</td>\n",
       "      <td>0.462012</td>\n",
       "      <td>0.811781</td>\n",
       "      <td>0.333098</td>\n",
       "    </tr>\n",
       "    <tr>\n",
       "      <th>FTA</th>\n",
       "      <td>0.491696</td>\n",
       "      <td>0.795711</td>\n",
       "      <td>0.882502</td>\n",
       "      <td>0.843725</td>\n",
       "      <td>0.807849</td>\n",
       "      <td>0.320679</td>\n",
       "      <td>0.090530</td>\n",
       "      <td>0.096702</td>\n",
       "      <td>-0.048118</td>\n",
       "      <td>0.980388</td>\n",
       "      <td>1.000000</td>\n",
       "      <td>0.092367</td>\n",
       "      <td>0.673121</td>\n",
       "      <td>0.731581</td>\n",
       "      <td>0.737864</td>\n",
       "      <td>0.419419</td>\n",
       "      <td>0.568765</td>\n",
       "      <td>0.521547</td>\n",
       "      <td>0.800064</td>\n",
       "      <td>0.334718</td>\n",
       "    </tr>\n",
       "    <tr>\n",
       "      <th>FT%</th>\n",
       "      <td>0.200386</td>\n",
       "      <td>0.241640</td>\n",
       "      <td>0.246680</td>\n",
       "      <td>0.214689</td>\n",
       "      <td>0.262776</td>\n",
       "      <td>-0.142038</td>\n",
       "      <td>0.310734</td>\n",
       "      <td>0.321690</td>\n",
       "      <td>0.329070</td>\n",
       "      <td>0.236930</td>\n",
       "      <td>0.092367</td>\n",
       "      <td>1.000000</td>\n",
       "      <td>-0.143924</td>\n",
       "      <td>-0.016600</td>\n",
       "      <td>-0.065965</td>\n",
       "      <td>0.308191</td>\n",
       "      <td>0.228524</td>\n",
       "      <td>-0.150065</td>\n",
       "      <td>0.197130</td>\n",
       "      <td>0.088597</td>\n",
       "    </tr>\n",
       "    <tr>\n",
       "      <th>OREB</th>\n",
       "      <td>0.416948</td>\n",
       "      <td>0.586255</td>\n",
       "      <td>0.590605</td>\n",
       "      <td>0.610619</td>\n",
       "      <td>0.514503</td>\n",
       "      <td>0.527119</td>\n",
       "      <td>-0.221181</td>\n",
       "      <td>-0.237302</td>\n",
       "      <td>-0.294037</td>\n",
       "      <td>0.604364</td>\n",
       "      <td>0.673121</td>\n",
       "      <td>-0.143924</td>\n",
       "      <td>1.000000</td>\n",
       "      <td>0.847967</td>\n",
       "      <td>0.937130</td>\n",
       "      <td>-0.016893</td>\n",
       "      <td>0.275706</td>\n",
       "      <td>0.665600</td>\n",
       "      <td>0.434725</td>\n",
       "      <td>0.329306</td>\n",
       "    </tr>\n",
       "    <tr>\n",
       "      <th>DREB</th>\n",
       "      <td>0.479671</td>\n",
       "      <td>0.756072</td>\n",
       "      <td>0.716958</td>\n",
       "      <td>0.723419</td>\n",
       "      <td>0.655417</td>\n",
       "      <td>0.431919</td>\n",
       "      <td>0.017703</td>\n",
       "      <td>0.007024</td>\n",
       "      <td>-0.132653</td>\n",
       "      <td>0.686171</td>\n",
       "      <td>0.731581</td>\n",
       "      <td>-0.016600</td>\n",
       "      <td>0.847967</td>\n",
       "      <td>1.000000</td>\n",
       "      <td>0.979235</td>\n",
       "      <td>0.193664</td>\n",
       "      <td>0.414556</td>\n",
       "      <td>0.712691</td>\n",
       "      <td>0.591945</td>\n",
       "      <td>0.323428</td>\n",
       "    </tr>\n",
       "    <tr>\n",
       "      <th>REB</th>\n",
       "      <td>0.473715</td>\n",
       "      <td>0.719870</td>\n",
       "      <td>0.696668</td>\n",
       "      <td>0.708522</td>\n",
       "      <td>0.627248</td>\n",
       "      <td>0.484302</td>\n",
       "      <td>-0.072795</td>\n",
       "      <td>-0.086081</td>\n",
       "      <td>-0.198723</td>\n",
       "      <td>0.681736</td>\n",
       "      <td>0.737864</td>\n",
       "      <td>-0.065965</td>\n",
       "      <td>0.937130</td>\n",
       "      <td>0.979235</td>\n",
       "      <td>1.000000</td>\n",
       "      <td>0.121015</td>\n",
       "      <td>0.377460</td>\n",
       "      <td>0.720953</td>\n",
       "      <td>0.554782</td>\n",
       "      <td>0.338257</td>\n",
       "    </tr>\n",
       "    <tr>\n",
       "      <th>AST</th>\n",
       "      <td>0.362790</td>\n",
       "      <td>0.625946</td>\n",
       "      <td>0.546482</td>\n",
       "      <td>0.521606</td>\n",
       "      <td>0.587837</td>\n",
       "      <td>-0.130397</td>\n",
       "      <td>0.415002</td>\n",
       "      <td>0.444800</td>\n",
       "      <td>0.296920</td>\n",
       "      <td>0.473577</td>\n",
       "      <td>0.419419</td>\n",
       "      <td>0.308191</td>\n",
       "      <td>-0.016893</td>\n",
       "      <td>0.193664</td>\n",
       "      <td>0.121015</td>\n",
       "      <td>1.000000</td>\n",
       "      <td>0.745087</td>\n",
       "      <td>-0.063675</td>\n",
       "      <td>0.736611</td>\n",
       "      <td>0.213621</td>\n",
       "    </tr>\n",
       "    <tr>\n",
       "      <th>STL</th>\n",
       "      <td>0.456121</td>\n",
       "      <td>0.766311</td>\n",
       "      <td>0.669969</td>\n",
       "      <td>0.650974</td>\n",
       "      <td>0.689307</td>\n",
       "      <td>0.040709</td>\n",
       "      <td>0.353963</td>\n",
       "      <td>0.379792</td>\n",
       "      <td>0.233972</td>\n",
       "      <td>0.597443</td>\n",
       "      <td>0.568765</td>\n",
       "      <td>0.228524</td>\n",
       "      <td>0.275706</td>\n",
       "      <td>0.414556</td>\n",
       "      <td>0.377460</td>\n",
       "      <td>0.745087</td>\n",
       "      <td>1.000000</td>\n",
       "      <td>0.161667</td>\n",
       "      <td>0.718808</td>\n",
       "      <td>0.268398</td>\n",
       "    </tr>\n",
       "    <tr>\n",
       "      <th>BLK</th>\n",
       "      <td>0.303153</td>\n",
       "      <td>0.432429</td>\n",
       "      <td>0.433771</td>\n",
       "      <td>0.442781</td>\n",
       "      <td>0.360720</td>\n",
       "      <td>0.414445</td>\n",
       "      <td>-0.157557</td>\n",
       "      <td>-0.172752</td>\n",
       "      <td>-0.264620</td>\n",
       "      <td>0.462012</td>\n",
       "      <td>0.521547</td>\n",
       "      <td>-0.150065</td>\n",
       "      <td>0.665600</td>\n",
       "      <td>0.712691</td>\n",
       "      <td>0.720953</td>\n",
       "      <td>-0.063675</td>\n",
       "      <td>0.161667</td>\n",
       "      <td>1.000000</td>\n",
       "      <td>0.333091</td>\n",
       "      <td>0.227312</td>\n",
       "    </tr>\n",
       "    <tr>\n",
       "      <th>TOV</th>\n",
       "      <td>0.523640</td>\n",
       "      <td>0.830394</td>\n",
       "      <td>0.853030</td>\n",
       "      <td>0.834749</td>\n",
       "      <td>0.848879</td>\n",
       "      <td>0.125793</td>\n",
       "      <td>0.269701</td>\n",
       "      <td>0.290051</td>\n",
       "      <td>0.111586</td>\n",
       "      <td>0.811781</td>\n",
       "      <td>0.800064</td>\n",
       "      <td>0.197130</td>\n",
       "      <td>0.434725</td>\n",
       "      <td>0.591945</td>\n",
       "      <td>0.554782</td>\n",
       "      <td>0.736611</td>\n",
       "      <td>0.718808</td>\n",
       "      <td>0.333091</td>\n",
       "      <td>1.000000</td>\n",
       "      <td>0.314013</td>\n",
       "    </tr>\n",
       "    <tr>\n",
       "      <th>Target</th>\n",
       "      <td>0.415001</td>\n",
       "      <td>0.354152</td>\n",
       "      <td>0.354192</td>\n",
       "      <td>0.356119</td>\n",
       "      <td>0.327988</td>\n",
       "      <td>0.252236</td>\n",
       "      <td>0.037159</td>\n",
       "      <td>0.018759</td>\n",
       "      <td>0.001285</td>\n",
       "      <td>0.333098</td>\n",
       "      <td>0.334718</td>\n",
       "      <td>0.088597</td>\n",
       "      <td>0.329306</td>\n",
       "      <td>0.323428</td>\n",
       "      <td>0.338257</td>\n",
       "      <td>0.213621</td>\n",
       "      <td>0.268398</td>\n",
       "      <td>0.227312</td>\n",
       "      <td>0.314013</td>\n",
       "      <td>1.000000</td>\n",
       "    </tr>\n",
       "  </tbody>\n",
       "</table>\n",
       "</div>"
      ],
      "text/plain": [
       "               GP       MIN       PTS       FGM       FGA       FG%   3P Made  \\\n",
       "GP       1.000000  0.597446  0.559332  0.562213  0.538190  0.311106  0.119768   \n",
       "MIN      0.597446  1.000000  0.918264  0.905489  0.914114  0.211973  0.390542   \n",
       "PTS      0.559332  0.918264  1.000000  0.991033  0.980013  0.272255  0.337452   \n",
       "FGM      0.562213  0.905489  0.991033  1.000000  0.979742  0.308350  0.277842   \n",
       "FGA      0.538190  0.914114  0.980013  0.979742  1.000000  0.145322  0.382426   \n",
       "FG%      0.311106  0.211973  0.272255  0.308350  0.145322  1.000000 -0.304532   \n",
       "3P Made  0.119768  0.390542  0.337452  0.277842  0.382426 -0.304532  1.000000   \n",
       "3PA      0.106866  0.398589  0.341765  0.282244  0.399330 -0.360298  0.982678   \n",
       "3P%      0.026659  0.169725  0.147124  0.114917  0.202011 -0.376032  0.619991   \n",
       "FTM      0.503171  0.811353  0.899845  0.853349  0.832288  0.267298  0.157143   \n",
       "FTA      0.491696  0.795711  0.882502  0.843725  0.807849  0.320679  0.090530   \n",
       "FT%      0.200386  0.241640  0.246680  0.214689  0.262776 -0.142038  0.310734   \n",
       "OREB     0.416948  0.586255  0.590605  0.610619  0.514503  0.527119 -0.221181   \n",
       "DREB     0.479671  0.756072  0.716958  0.723419  0.655417  0.431919  0.017703   \n",
       "REB      0.473715  0.719870  0.696668  0.708522  0.627248  0.484302 -0.072795   \n",
       "AST      0.362790  0.625946  0.546482  0.521606  0.587837 -0.130397  0.415002   \n",
       "STL      0.456121  0.766311  0.669969  0.650974  0.689307  0.040709  0.353963   \n",
       "BLK      0.303153  0.432429  0.433771  0.442781  0.360720  0.414445 -0.157557   \n",
       "TOV      0.523640  0.830394  0.853030  0.834749  0.848879  0.125793  0.269701   \n",
       "Target   0.415001  0.354152  0.354192  0.356119  0.327988  0.252236  0.037159   \n",
       "\n",
       "              3PA       3P%       FTM       FTA       FT%      OREB      DREB  \\\n",
       "GP       0.106866  0.026659  0.503171  0.491696  0.200386  0.416948  0.479671   \n",
       "MIN      0.398589  0.169725  0.811353  0.795711  0.241640  0.586255  0.756072   \n",
       "PTS      0.341765  0.147124  0.899845  0.882502  0.246680  0.590605  0.716958   \n",
       "FGM      0.282244  0.114917  0.853349  0.843725  0.214689  0.610619  0.723419   \n",
       "FGA      0.399330  0.202011  0.832288  0.807849  0.262776  0.514503  0.655417   \n",
       "FG%     -0.360298 -0.376032  0.267298  0.320679 -0.142038  0.527119  0.431919   \n",
       "3P Made  0.982678  0.619991  0.157143  0.090530  0.310734 -0.221181  0.017703   \n",
       "3PA      1.000000  0.612823  0.165934  0.096702  0.321690 -0.237302  0.007024   \n",
       "3P%      0.612823  1.000000  0.018112 -0.048118  0.329070 -0.294037 -0.132653   \n",
       "FTM      0.165934  0.018112  1.000000  0.980388  0.236930  0.604364  0.686171   \n",
       "FTA      0.096702 -0.048118  0.980388  1.000000  0.092367  0.673121  0.731581   \n",
       "FT%      0.321690  0.329070  0.236930  0.092367  1.000000 -0.143924 -0.016600   \n",
       "OREB    -0.237302 -0.294037  0.604364  0.673121 -0.143924  1.000000  0.847967   \n",
       "DREB     0.007024 -0.132653  0.686171  0.731581 -0.016600  0.847967  1.000000   \n",
       "REB     -0.086081 -0.198723  0.681736  0.737864 -0.065965  0.937130  0.979235   \n",
       "AST      0.444800  0.296920  0.473577  0.419419  0.308191 -0.016893  0.193664   \n",
       "STL      0.379792  0.233972  0.597443  0.568765  0.228524  0.275706  0.414556   \n",
       "BLK     -0.172752 -0.264620  0.462012  0.521547 -0.150065  0.665600  0.712691   \n",
       "TOV      0.290051  0.111586  0.811781  0.800064  0.197130  0.434725  0.591945   \n",
       "Target   0.018759  0.001285  0.333098  0.334718  0.088597  0.329306  0.323428   \n",
       "\n",
       "              REB       AST       STL       BLK       TOV    Target  \n",
       "GP       0.473715  0.362790  0.456121  0.303153  0.523640  0.415001  \n",
       "MIN      0.719870  0.625946  0.766311  0.432429  0.830394  0.354152  \n",
       "PTS      0.696668  0.546482  0.669969  0.433771  0.853030  0.354192  \n",
       "FGM      0.708522  0.521606  0.650974  0.442781  0.834749  0.356119  \n",
       "FGA      0.627248  0.587837  0.689307  0.360720  0.848879  0.327988  \n",
       "FG%      0.484302 -0.130397  0.040709  0.414445  0.125793  0.252236  \n",
       "3P Made -0.072795  0.415002  0.353963 -0.157557  0.269701  0.037159  \n",
       "3PA     -0.086081  0.444800  0.379792 -0.172752  0.290051  0.018759  \n",
       "3P%     -0.198723  0.296920  0.233972 -0.264620  0.111586  0.001285  \n",
       "FTM      0.681736  0.473577  0.597443  0.462012  0.811781  0.333098  \n",
       "FTA      0.737864  0.419419  0.568765  0.521547  0.800064  0.334718  \n",
       "FT%     -0.065965  0.308191  0.228524 -0.150065  0.197130  0.088597  \n",
       "OREB     0.937130 -0.016893  0.275706  0.665600  0.434725  0.329306  \n",
       "DREB     0.979235  0.193664  0.414556  0.712691  0.591945  0.323428  \n",
       "REB      1.000000  0.121015  0.377460  0.720953  0.554782  0.338257  \n",
       "AST      0.121015  1.000000  0.745087 -0.063675  0.736611  0.213621  \n",
       "STL      0.377460  0.745087  1.000000  0.161667  0.718808  0.268398  \n",
       "BLK      0.720953 -0.063675  0.161667  1.000000  0.333091  0.227312  \n",
       "TOV      0.554782  0.736611  0.718808  0.333091  1.000000  0.314013  \n",
       "Target   0.338257  0.213621  0.268398  0.227312  0.314013  1.000000  "
      ]
     },
     "execution_count": 126,
     "metadata": {},
     "output_type": "execute_result"
    }
   ],
   "source": [
    "cor"
   ]
  },
  {
   "cell_type": "code",
   "execution_count": 137,
   "id": "1d1a5c03",
   "metadata": {},
   "outputs": [],
   "source": [
    "X_traind= X_train.drop('3P%',axis=1)"
   ]
  },
  {
   "cell_type": "code",
   "execution_count": 138,
   "id": "55161653",
   "metadata": {},
   "outputs": [],
   "source": [
    "test_drop= test.drop('3P%',axis=1)"
   ]
  },
  {
   "cell_type": "code",
   "execution_count": 139,
   "id": "512df413",
   "metadata": {},
   "outputs": [
    {
     "data": {
      "text/plain": [
       "(555, 18)"
      ]
     },
     "execution_count": 139,
     "metadata": {},
     "output_type": "execute_result"
    }
   ],
   "source": [
    "test_drop.shape"
   ]
  },
  {
   "cell_type": "code",
   "execution_count": 140,
   "id": "d9872690",
   "metadata": {},
   "outputs": [
    {
     "data": {
      "text/plain": [
       "(880, 18)"
      ]
     },
     "execution_count": 140,
     "metadata": {},
     "output_type": "execute_result"
    }
   ],
   "source": [
    "X_traind.shape"
   ]
  },
  {
   "cell_type": "code",
   "execution_count": 141,
   "id": "0518fe55",
   "metadata": {},
   "outputs": [],
   "source": [
    "X_drop= X.drop('3P%',axis=1)"
   ]
  },
  {
   "cell_type": "code",
   "execution_count": 150,
   "id": "4315f58c",
   "metadata": {},
   "outputs": [],
   "source": [
    "params={'n_estimators': [500,800,1000],\n",
    "    'colsample_bytree': [0.7,0.8,0.9],\n",
    "    'max_depth': [15,20,25],\n",
    "    'reg_alpha': [1.1, 1.2, 1.3],\n",
    "    'reg_lambda': [1.1, 1.2, 1.3],\n",
    "    'subsample': [0.7, 0.8, 0.9]\n",
    "  }"
   ]
  },
  {
   "cell_type": "code",
   "execution_count": 152,
   "id": "b3d35bf6",
   "metadata": {},
   "outputs": [],
   "source": [
    "gs = GridSearchCV(\n",
    "        estimator=XGBClassifier(learning_rate=0.01),\n",
    "        param_grid=params, \n",
    "        cv=3, \n",
    "        n_jobs=-1, \n",
    "    )"
   ]
  },
  {
   "cell_type": "code",
   "execution_count": 154,
   "id": "5c772715",
   "metadata": {},
   "outputs": [],
   "source": [
    "# model= gs.fit(X_drop,y)\n",
    "# model= model.best_estimator_"
   ]
  },
  {
   "cell_type": "code",
   "execution_count": 156,
   "id": "6c5c1424",
   "metadata": {},
   "outputs": [],
   "source": [
    "# X_testd= X_test.drop('3P%',axis=1)"
   ]
  },
  {
   "cell_type": "code",
   "execution_count": 198,
   "id": "d8c072b6",
   "metadata": {},
   "outputs": [
    {
     "data": {
      "text/plain": [
       "XGBClassifier(base_score=0.5, booster='gbtree', callbacks=None,\n",
       "              colsample_bylevel=1, colsample_bynode=1, colsample_bytree=1,\n",
       "              early_stopping_rounds=None, enable_categorical=False,\n",
       "              eval_metric=None, gamma=0, gpu_id=-1, grow_policy='depthwise',\n",
       "              importance_type=None, interaction_constraints='',\n",
       "              learning_rate=0.2, max_bin=256, max_cat_to_onehot=4,\n",
       "              max_delta_step=0, max_depth=6, max_leaves=0, min_child_weight=1,\n",
       "              missing=nan, monotone_constraints='()', n_estimators=800,\n",
       "              n_jobs=0, num_parallel_tree=1, predictor='auto', random_state=1,\n",
       "              reg_alpha=0, reg_lambda=1, ...)"
      ]
     },
     "execution_count": 198,
     "metadata": {},
     "output_type": "execute_result"
    }
   ],
   "source": [
    "model= XGBClassifier(learning_rate=0.2,n_estimators=800,random_state=1)\n",
    "model.fit(X_traind,y_train)"
   ]
  },
  {
   "cell_type": "code",
   "execution_count": 199,
   "id": "af047c95",
   "metadata": {},
   "outputs": [
    {
     "name": "stdout",
     "output_type": "stream",
     "text": [
      "0.6968325791855203\n",
      "0.9886363636363636\n"
     ]
    }
   ],
   "source": [
    "pred= model.predict(X_testd)\n",
    "print(accuracy_score(y_test,pred))\n",
    "print(accuracy_score(y_train,model.predict(X_traind)))"
   ]
  },
  {
   "cell_type": "code",
   "execution_count": 200,
   "id": "37d49b03",
   "metadata": {},
   "outputs": [],
   "source": [
    "y_pred= model.predict(test_drop) \n",
    "res= pd.DataFrame(y_pred)\n",
    "res.index=test.index\n",
    "res.columns=[\"prediction\"]\n",
    "res.to_csv(\"y_pred.csv\",index=False)"
   ]
  },
  {
   "cell_type": "code",
   "execution_count": null,
   "id": "984da6ba",
   "metadata": {},
   "outputs": [],
   "source": []
  }
 ],
 "metadata": {
  "kernelspec": {
   "display_name": "Python 3",
   "language": "python",
   "name": "python3"
  },
  "language_info": {
   "codemirror_mode": {
    "name": "ipython",
    "version": 3
   },
   "file_extension": ".py",
   "mimetype": "text/x-python",
   "name": "python",
   "nbconvert_exporter": "python",
   "pygments_lexer": "ipython3",
   "version": "3.8.8"
  }
 },
 "nbformat": 4,
 "nbformat_minor": 5
}
